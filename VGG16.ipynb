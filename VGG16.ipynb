{
 "cells": [
  {
   "cell_type": "code",
   "execution_count": 7,
   "id": "390a2702",
   "metadata": {},
   "outputs": [],
   "source": [
    "import tensorflow as tf\n",
    "from tensorflow.keras.preprocessing.image import ImageDataGenerator\n",
    "from tensorflow.keras.applications import MobileNetV2, VGG16, ResNet50\n",
    "from tensorflow.keras.layers import Dense, GlobalAveragePooling2D\n",
    "from tensorflow.keras.models import Model\n",
    "from tensorflow.keras.optimizers import Adam\n",
    "from tensorflow.keras.callbacks import ModelCheckpoint, EarlyStopping\n",
    "from tensorflow.keras.layers.experimental import preprocessing"
   ]
  },
  {
   "cell_type": "code",
   "execution_count": 2,
   "id": "3e6e6892",
   "metadata": {},
   "outputs": [],
   "source": [
    "# Paramètres\n",
    "input_shape = (224, 224, 3)\n",
    "num_classes = 30  # Remplacez par le nombre de classes de votre tâche\n",
    "batch_size = 32\n",
    "epochs = 50"
   ]
  },
  {
   "cell_type": "code",
   "execution_count": 3,
   "id": "ac74dea1",
   "metadata": {},
   "outputs": [],
   "source": [
    "data_dir = \"Segmented Medicinal Leaf Images\""
   ]
  },
  {
   "cell_type": "code",
   "execution_count": 4,
   "id": "0c8b2f4d",
   "metadata": {},
   "outputs": [],
   "source": [
    "#augmentation\n",
    "datagen = ImageDataGenerator(\n",
    "    rescale=1.0/255.0,\n",
    "    rotation_range=20,\n",
    "    width_shift_range=0.2,\n",
    "    height_shift_range=0.2,\n",
    "    shear_range=0.2,\n",
    "    zoom_range=0.2,\n",
    "    horizontal_flip=True,\n",
    "    validation_split=0.2\n",
    ")"
   ]
  },
  {
   "cell_type": "code",
   "execution_count": 10,
   "id": "773a8557",
   "metadata": {},
   "outputs": [
    {
     "name": "stdout",
     "output_type": "stream",
     "text": [
      "Found 1479 images belonging to 30 classes.\n"
     ]
    }
   ],
   "source": [
    "# Chargez les données d'entraînement et de validation en utilisant le générateur\n",
    "train_generator = datagen.flow_from_directory(\n",
    "    data_dir,\n",
    "    target_size = input_shape[:2],\n",
    "    batch_size=32,\n",
    "    class_mode='categorical',\n",
    "    subset='training'  # Utilisez la sous-partie d'entraînement\n",
    ")\n"
   ]
  },
  {
   "cell_type": "code",
   "execution_count": 11,
   "id": "ea222ed4",
   "metadata": {},
   "outputs": [
    {
     "name": "stdout",
     "output_type": "stream",
     "text": [
      "Found 356 images belonging to 30 classes.\n"
     ]
    }
   ],
   "source": [
    "test_generator = datagen.flow_from_directory(\n",
    "    data_dir,\n",
    "    target_size=input_shape[:2],\n",
    "    batch_size=32,\n",
    "    class_mode='categorical',\n",
    "    subset='validation'  # Utilisez la sous-partie de validation\n",
    ")"
   ]
  },
  {
   "cell_type": "code",
   "execution_count": 12,
   "id": "c4e651af",
   "metadata": {},
   "outputs": [
    {
     "name": "stdout",
     "output_type": "stream",
     "text": [
      "Downloading data from https://storage.googleapis.com/tensorflow/keras-applications/vgg16/vgg16_weights_tf_dim_ordering_tf_kernels_notop.h5\n",
      "58889256/58889256 [==============================] - 54s 1us/step\n"
     ]
    }
   ],
   "source": [
    "# Chargement du modèle pré-entraîné VGG16 avec les poids ImageNet\n",
    "base_model = VGG16(weights='imagenet', include_top=False, input_shape=input_shape)\n"
   ]
  },
  {
   "cell_type": "code",
   "execution_count": 13,
   "id": "e917fa19",
   "metadata": {},
   "outputs": [],
   "source": [
    "# Geler les couches du modèle de base (sauf les dernières couches de classification)\n",
    "for layer in base_model.layers[:-4]:\n",
    "    layer.trainable = False"
   ]
  },
  {
   "cell_type": "code",
   "execution_count": 14,
   "id": "3e9946c4",
   "metadata": {},
   "outputs": [],
   "source": [
    "# Création du modèle personnalisé pour la tâche de classification\n",
    "x = base_model.output\n",
    "x = Flatten()(x)\n",
    "x = Dense(1024, activation='relu')(x)\n",
    "x = Dropout(0.5)(x)\n",
    "predictions = Dense(num_classes, activation='softmax')(x)"
   ]
  },
  {
   "cell_type": "code",
   "execution_count": 15,
   "id": "837b8d73",
   "metadata": {},
   "outputs": [],
   "source": [
    "# Création du modèle final\n",
    "model = Model(inputs=base_model.input, outputs=predictions)"
   ]
  },
  {
   "cell_type": "code",
   "execution_count": 17,
   "id": "14e1f8c7",
   "metadata": {},
   "outputs": [],
   "source": [
    "# Compilation du modèle\n",
    "model.compile(optimizer=Adam(learning_rate=0.0001), loss='categorical_crossentropy', metrics=['accuracy'])"
   ]
  },
  {
   "cell_type": "code",
   "execution_count": 18,
   "id": "dac52237",
   "metadata": {},
   "outputs": [],
   "source": [
    "# Utilisation de l'arrêt précoce\n",
    "early_stopping = tf.keras.callbacks.EarlyStopping(\n",
    "    monitor='val_loss',\n",
    "    patience=10,\n",
    "    restore_best_weights=True\n",
    ")\n"
   ]
  },
  {
   "cell_type": "code",
   "execution_count": 20,
   "id": "e28486b5",
   "metadata": {},
   "outputs": [
    {
     "name": "stdout",
     "output_type": "stream",
     "text": [
      "Epoch 1/50\n",
      "47/47 [==============================] - 839s 18s/step - loss: 2.6236 - accuracy: 0.2684 - val_loss: 1.5463 - val_accuracy: 0.5169\n",
      "Epoch 2/50\n",
      "47/47 [==============================] - 797s 17s/step - loss: 1.2468 - accuracy: 0.6126 - val_loss: 0.9280 - val_accuracy: 0.7219\n",
      "Epoch 3/50\n",
      "47/47 [==============================] - 799s 17s/step - loss: 0.7263 - accuracy: 0.7681 - val_loss: 0.6165 - val_accuracy: 0.8118\n",
      "Epoch 4/50\n",
      "47/47 [==============================] - 899s 19s/step - loss: 0.5378 - accuracy: 0.8208 - val_loss: 0.5706 - val_accuracy: 0.8287\n",
      "Epoch 5/50\n",
      "47/47 [==============================] - 885s 19s/step - loss: 0.3468 - accuracy: 0.8857 - val_loss: 0.3888 - val_accuracy: 0.8848\n",
      "Epoch 6/50\n",
      "47/47 [==============================] - 939s 20s/step - loss: 0.3116 - accuracy: 0.9013 - val_loss: 0.4078 - val_accuracy: 0.8567\n",
      "Epoch 7/50\n",
      "47/47 [==============================] - 941s 20s/step - loss: 0.2605 - accuracy: 0.9182 - val_loss: 0.4286 - val_accuracy: 0.8483\n",
      "Epoch 8/50\n",
      "47/47 [==============================] - 1014s 22s/step - loss: 0.2308 - accuracy: 0.9256 - val_loss: 0.3926 - val_accuracy: 0.8904\n",
      "Epoch 9/50\n",
      "47/47 [==============================] - 886s 19s/step - loss: 0.1553 - accuracy: 0.9493 - val_loss: 0.3635 - val_accuracy: 0.8876\n",
      "Epoch 10/50\n",
      "47/47 [==============================] - 952s 20s/step - loss: 0.1694 - accuracy: 0.9486 - val_loss: 0.2631 - val_accuracy: 0.9213\n",
      "Epoch 11/50\n",
      "47/47 [==============================] - 825s 18s/step - loss: 0.1453 - accuracy: 0.9567 - val_loss: 0.4570 - val_accuracy: 0.8708\n",
      "Epoch 12/50\n",
      "47/47 [==============================] - 808s 17s/step - loss: 0.1436 - accuracy: 0.9486 - val_loss: 0.3392 - val_accuracy: 0.9185\n",
      "Epoch 13/50\n",
      "47/47 [==============================] - 811s 17s/step - loss: 0.1089 - accuracy: 0.9628 - val_loss: 0.3813 - val_accuracy: 0.9017\n",
      "Epoch 14/50\n",
      "47/47 [==============================] - 875s 19s/step - loss: 0.1043 - accuracy: 0.9662 - val_loss: 0.2846 - val_accuracy: 0.9213\n",
      "Epoch 15/50\n",
      "47/47 [==============================] - 853s 18s/step - loss: 0.1381 - accuracy: 0.9473 - val_loss: 0.3510 - val_accuracy: 0.8961\n",
      "Epoch 16/50\n",
      "47/47 [==============================] - 868s 19s/step - loss: 0.0902 - accuracy: 0.9696 - val_loss: 0.4629 - val_accuracy: 0.8848\n",
      "Epoch 17/50\n",
      "47/47 [==============================] - 865s 18s/step - loss: 0.1226 - accuracy: 0.9608 - val_loss: 0.3402 - val_accuracy: 0.9213\n",
      "Epoch 18/50\n",
      "47/47 [==============================] - 848s 18s/step - loss: 0.0903 - accuracy: 0.9682 - val_loss: 0.3423 - val_accuracy: 0.9045\n",
      "Epoch 19/50\n",
      "47/47 [==============================] - 840s 18s/step - loss: 0.0600 - accuracy: 0.9817 - val_loss: 0.3414 - val_accuracy: 0.9017\n",
      "Epoch 20/50\n",
      "47/47 [==============================] - 791s 17s/step - loss: 0.0795 - accuracy: 0.9730 - val_loss: 0.2574 - val_accuracy: 0.9354\n",
      "Epoch 21/50\n",
      "47/47 [==============================] - 793s 17s/step - loss: 0.0591 - accuracy: 0.9790 - val_loss: 0.4267 - val_accuracy: 0.9045\n",
      "Epoch 22/50\n",
      "47/47 [==============================] - 796s 17s/step - loss: 0.0661 - accuracy: 0.9824 - val_loss: 0.2506 - val_accuracy: 0.9326\n",
      "Epoch 23/50\n",
      "47/47 [==============================] - 797s 17s/step - loss: 0.0643 - accuracy: 0.9811 - val_loss: 0.3114 - val_accuracy: 0.9298\n",
      "Epoch 24/50\n",
      "47/47 [==============================] - 796s 17s/step - loss: 0.0424 - accuracy: 0.9872 - val_loss: 0.3057 - val_accuracy: 0.9242\n",
      "Epoch 25/50\n",
      "47/47 [==============================] - 809s 17s/step - loss: 0.0834 - accuracy: 0.9716 - val_loss: 0.2592 - val_accuracy: 0.9354\n",
      "Epoch 26/50\n",
      "47/47 [==============================] - 790s 17s/step - loss: 0.0658 - accuracy: 0.9784 - val_loss: 0.3570 - val_accuracy: 0.9101\n",
      "Epoch 27/50\n",
      "47/47 [==============================] - 798s 17s/step - loss: 0.0510 - accuracy: 0.9872 - val_loss: 0.5396 - val_accuracy: 0.8652\n",
      "Epoch 28/50\n",
      "47/47 [==============================] - 789s 17s/step - loss: 0.0779 - accuracy: 0.9763 - val_loss: 0.3435 - val_accuracy: 0.9017\n",
      "Epoch 29/50\n",
      "47/47 [==============================] - 786s 17s/step - loss: 0.0370 - accuracy: 0.9905 - val_loss: 0.2802 - val_accuracy: 0.9185\n",
      "Epoch 30/50\n",
      "47/47 [==============================] - 786s 17s/step - loss: 0.0383 - accuracy: 0.9885 - val_loss: 0.2832 - val_accuracy: 0.9185\n",
      "Epoch 31/50\n",
      "47/47 [==============================] - 801s 17s/step - loss: 0.0364 - accuracy: 0.9892 - val_loss: 0.3809 - val_accuracy: 0.9101\n",
      "Epoch 32/50\n",
      "47/47 [==============================] - 794s 17s/step - loss: 0.0676 - accuracy: 0.9804 - val_loss: 0.5037 - val_accuracy: 0.8989\n"
     ]
    },
    {
     "data": {
      "text/plain": [
       "<keras.callbacks.History at 0x136f2aa9480>"
      ]
     },
     "execution_count": 20,
     "metadata": {},
     "output_type": "execute_result"
    }
   ],
   "source": [
    "# Entraînement du modèle\n",
    "model.fit(\n",
    "    train_generator,\n",
    "    epochs=epochs,\n",
    "    callbacks=[early_stopping],\n",
    "    validation_data=test_generator  \n",
    ")"
   ]
  },
  {
   "cell_type": "code",
   "execution_count": 21,
   "id": "506f775f",
   "metadata": {},
   "outputs": [
    {
     "name": "stdout",
     "output_type": "stream",
     "text": [
      "12/12 [==============================] - 129s 11s/step - loss: 0.2476 - accuracy: 0.9354\n",
      "Test accuracy: 93.54%\n"
     ]
    }
   ],
   "source": [
    "# Évaluation du modèle sur l'ensemble de test\n",
    "test_loss, test_accuracy = model.evaluate(test_generator)  # Remplacez par votre générateur de test\n",
    "print(f\"Test accuracy: {test_accuracy * 100:.2f}%\")"
   ]
  },
  {
   "cell_type": "code",
   "execution_count": 22,
   "id": "ce35fa47",
   "metadata": {},
   "outputs": [
    {
     "name": "stdout",
     "output_type": "stream",
     "text": [
      "Epoch 1/18\n",
      "47/47 [==============================] - 802s 17s/step - loss: 0.0467 - accuracy: 0.9858 - val_loss: 0.2779 - val_accuracy: 0.9354\n",
      "Epoch 2/18\n",
      "47/47 [==============================] - 798s 17s/step - loss: 0.0579 - accuracy: 0.9804 - val_loss: 0.4026 - val_accuracy: 0.9017\n",
      "Epoch 3/18\n",
      "47/47 [==============================] - 799s 17s/step - loss: 0.0758 - accuracy: 0.9743 - val_loss: 0.5777 - val_accuracy: 0.8652\n",
      "Epoch 4/18\n",
      "47/47 [==============================] - 791s 17s/step - loss: 0.1895 - accuracy: 0.9520 - val_loss: 0.5550 - val_accuracy: 0.8848\n",
      "Epoch 5/18\n",
      "47/47 [==============================] - 789s 17s/step - loss: 0.0857 - accuracy: 0.9763 - val_loss: 0.3782 - val_accuracy: 0.9101\n",
      "Epoch 6/18\n",
      "47/47 [==============================] - 798s 17s/step - loss: 0.0421 - accuracy: 0.9858 - val_loss: 0.3627 - val_accuracy: 0.9073\n",
      "Epoch 7/18\n",
      "47/47 [==============================] - 792s 17s/step - loss: 0.0542 - accuracy: 0.9851 - val_loss: 0.3028 - val_accuracy: 0.9270\n",
      "Epoch 8/18\n",
      "47/47 [==============================] - 788s 17s/step - loss: 0.0737 - accuracy: 0.9757 - val_loss: 0.2338 - val_accuracy: 0.9410\n",
      "Epoch 9/18\n",
      "47/47 [==============================] - 791s 17s/step - loss: 0.0715 - accuracy: 0.9804 - val_loss: 0.3187 - val_accuracy: 0.9298\n",
      "Epoch 10/18\n",
      "47/47 [==============================] - 803s 17s/step - loss: 0.0497 - accuracy: 0.9885 - val_loss: 0.3558 - val_accuracy: 0.9073\n",
      "Epoch 11/18\n",
      "47/47 [==============================] - 791s 17s/step - loss: 0.0933 - accuracy: 0.9689 - val_loss: 0.3667 - val_accuracy: 0.9242\n",
      "Epoch 12/18\n",
      "47/47 [==============================] - 790s 17s/step - loss: 0.0657 - accuracy: 0.9784 - val_loss: 0.5951 - val_accuracy: 0.8736\n",
      "Epoch 13/18\n",
      "47/47 [==============================] - 791s 17s/step - loss: 0.0668 - accuracy: 0.9824 - val_loss: 0.3649 - val_accuracy: 0.9045\n",
      "Epoch 14/18\n",
      "47/47 [==============================] - 792s 17s/step - loss: 0.0429 - accuracy: 0.9878 - val_loss: 0.2571 - val_accuracy: 0.9270\n",
      "Epoch 15/18\n",
      "47/47 [==============================] - 800s 17s/step - loss: 0.0347 - accuracy: 0.9872 - val_loss: 0.3371 - val_accuracy: 0.9185\n",
      "Epoch 16/18\n",
      "47/47 [==============================] - 791s 17s/step - loss: 0.0281 - accuracy: 0.9905 - val_loss: 0.3862 - val_accuracy: 0.9157\n",
      "Epoch 17/18\n",
      "47/47 [==============================] - 792s 17s/step - loss: 0.0526 - accuracy: 0.9831 - val_loss: 0.3412 - val_accuracy: 0.9157\n",
      "Epoch 18/18\n",
      "47/47 [==============================] - 795s 17s/step - loss: 0.0620 - accuracy: 0.9817 - val_loss: 0.3105 - val_accuracy: 0.9326\n"
     ]
    },
    {
     "data": {
      "text/plain": [
       "<keras.callbacks.History at 0x1368b51b340>"
      ]
     },
     "execution_count": 22,
     "metadata": {},
     "output_type": "execute_result"
    }
   ],
   "source": [
    "# Entraînement du modèle\n",
    "model.fit(\n",
    "    train_generator,\n",
    "    epochs=18,\n",
    "    callbacks=[early_stopping],\n",
    "    validation_data=test_generator  # Remplacez par votre générateur de validation\n",
    ")"
   ]
  },
  {
   "cell_type": "code",
   "execution_count": 23,
   "id": "59ce065b",
   "metadata": {},
   "outputs": [
    {
     "name": "stdout",
     "output_type": "stream",
     "text": [
      "12/12 [==============================] - 130s 11s/step - loss: 0.2116 - accuracy: 0.9494\n",
      "Test accuracy: 94.94%\n"
     ]
    }
   ],
   "source": [
    "# Évaluation du modèle sur l'ensemble de test\n",
    "test_loss, test_accuracy = model.evaluate(test_generator)  # Remplacez par votre générateur de test\n",
    "print(f\"Test accuracy: {test_accuracy * 100:.2f}%\")"
   ]
  },
  {
   "cell_type": "code",
   "execution_count": null,
   "id": "1fe8680b",
   "metadata": {},
   "outputs": [],
   "source": []
  }
 ],
 "metadata": {
  "kernelspec": {
   "display_name": "Python 3 (ipykernel)",
   "language": "python",
   "name": "python3"
  },
  "language_info": {
   "codemirror_mode": {
    "name": "ipython",
    "version": 3
   },
   "file_extension": ".py",
   "mimetype": "text/x-python",
   "name": "python",
   "nbconvert_exporter": "python",
   "pygments_lexer": "ipython3",
   "version": "3.10.9"
  }
 },
 "nbformat": 4,
 "nbformat_minor": 5
}
