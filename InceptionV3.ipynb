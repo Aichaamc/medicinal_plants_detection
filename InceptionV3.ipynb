{
 "cells": [
  {
   "cell_type": "code",
   "execution_count": 1,
   "metadata": {
    "id": "YyEkOaeYZ6v_"
   },
   "outputs": [],
   "source": [
    "import tensorflow as tf\n",
    "from tensorflow.keras.applications import InceptionV3\n",
    "from tensorflow.keras.layers import Dense, GlobalAveragePooling2D, Dropout\n",
    "from tensorflow.keras.models import Model\n",
    "from tensorflow.keras.optimizers import Adam\n",
    "from tensorflow.keras.preprocessing.image import ImageDataGenerator"
   ]
  },
  {
   "cell_type": "code",
   "execution_count": 2,
   "metadata": {},
   "outputs": [],
   "source": [
    "num_classes = 30  \n",
    "batch_size = 32"
   ]
  },
  {
   "cell_type": "code",
   "execution_count": 3,
   "metadata": {
    "id": "z_j9EFO6apJe"
   },
   "outputs": [],
   "source": [
    "data_dir = 'Segmented Medicinal Leaf Images'"
   ]
  },
  {
   "cell_type": "code",
   "execution_count": 4,
   "metadata": {
    "id": "NOrv2WcUbM0J"
   },
   "outputs": [],
   "source": [
    "# Créez un générateur d'images avec augmentation de données\n",
    "data_generator = ImageDataGenerator(\n",
    "    rescale=1./255,\n",
    "    rotation_range=20,\n",
    "    width_shift_range=0.2,\n",
    "    height_shift_range=0.2,\n",
    "    shear_range=0.2,\n",
    "    zoom_range=0.2,\n",
    "    horizontal_flip=True,\n",
    "    validation_split=0.2  # 20% des données pour la validation\n",
    ")\n",
    "input_shape = (224, 224, 3)\n"
   ]
  },
  {
   "cell_type": "code",
   "execution_count": 5,
   "metadata": {
    "colab": {
     "base_uri": "https://localhost:8080/"
    },
    "id": "LHDoTnJObWPm",
    "outputId": "4676b2a9-f2b7-432c-898d-4e449b30cbb6"
   },
   "outputs": [
    {
     "name": "stdout",
     "output_type": "stream",
     "text": [
      "Found 1479 images belonging to 30 classes.\n"
     ]
    }
   ],
   "source": [
    "# Chargez les données d'entraînement et de validation en utilisant le générateur\n",
    "train_generator = data_generator.flow_from_directory(\n",
    "    data_dir,\n",
    "    target_size = input_shape[:2],\n",
    "    batch_size=32,\n",
    "    class_mode='categorical',\n",
    "    subset='training'  # Utilisez la sous-partie d'entraînement\n",
    ")"
   ]
  },
  {
   "cell_type": "code",
   "execution_count": 6,
   "metadata": {
    "colab": {
     "base_uri": "https://localhost:8080/"
    },
    "id": "kBwYaJe3cdiB",
    "outputId": "4e709980-17c6-4f8d-aca5-c1b660243759"
   },
   "outputs": [
    {
     "name": "stdout",
     "output_type": "stream",
     "text": [
      "Found 356 images belonging to 30 classes.\n"
     ]
    }
   ],
   "source": [
    "valid_generator = data_generator.flow_from_directory(\n",
    "    data_dir,\n",
    "    target_size=input_shape[:2],\n",
    "    batch_size=32,\n",
    "    class_mode='categorical',\n",
    "    subset='validation'  # Utilisez la sous-partie de validation\n",
    ")"
   ]
  },
  {
   "cell_type": "code",
   "execution_count": 7,
   "metadata": {
    "colab": {
     "base_uri": "https://localhost:8080/"
    },
    "id": "nlRGl9S4dKMm",
    "outputId": "dc3ad206-51eb-445d-bdd7-9b045c541468"
   },
   "outputs": [],
   "source": [
    "# Chargement du modèle pré-entraîné InceptionV3 avec les poids ImageNet\n",
    "base_model = InceptionV3(weights='imagenet', include_top=False, input_shape=input_shape)"
   ]
  },
  {
   "cell_type": "code",
   "execution_count": 8,
   "metadata": {
    "id": "oz0d_25nddhd"
   },
   "outputs": [],
   "source": [
    "# Ajout de couches personnalisées au modèle InceptionV3\n",
    "x = base_model.output\n",
    "x = GlobalAveragePooling2D()(x)\n",
    "x = Dense(1024, activation='relu')(x)\n",
    "x = Dropout(0.5)(x)\n",
    "predictions = Dense(num_classes, activation='softmax')(x)\n"
   ]
  },
  {
   "cell_type": "code",
   "execution_count": 9,
   "metadata": {
    "id": "YEQT01Ez-DPU"
   },
   "outputs": [],
   "source": [
    "# Création du modèle final\n",
    "model = Model(inputs=base_model.input, outputs=predictions)\n"
   ]
  },
  {
   "cell_type": "code",
   "execution_count": 10,
   "metadata": {
    "id": "I3Dw9osmdgGq"
   },
   "outputs": [],
   "source": [
    "# Compilation du modèle\n",
    "model.compile(optimizer=Adam(learning_rate=0.0001), loss='categorical_crossentropy', metrics=['accuracy'])"
   ]
  },
  {
   "cell_type": "code",
   "execution_count": 11,
   "metadata": {
    "colab": {
     "base_uri": "https://localhost:8080/",
     "height": 1000
    },
    "id": "yUY3JF8Fdu-J",
    "outputId": "9ed1039e-8a2a-4b67-ff2e-bf18106f3556",
    "scrolled": true
   },
   "outputs": [],
   "source": [
    "# Utilisation de l'arrêt précoce\n",
    "early_stopping = tf.keras.callbacks.EarlyStopping(\n",
    "    monitor='val_loss',\n",
    "    patience=10,\n",
    "    restore_best_weights=True\n",
    ")"
   ]
  },
  {
   "cell_type": "code",
   "execution_count": 13,
   "metadata": {
    "colab": {
     "base_uri": "https://localhost:8080/"
    },
    "id": "ZKPxW8S3RPMY",
    "outputId": "31413ca6-68b0-46a9-a1fe-402c041bc355"
   },
   "outputs": [
    {
     "name": "stdout",
     "output_type": "stream",
     "text": [
      "Epoch 1/50\n",
      "47/47 [==============================] - 888s 18s/step - loss: 2.2886 - accuracy: 0.4260 - val_loss: 1.2378 - val_accuracy: 0.6461\n",
      "Epoch 2/50\n",
      "47/47 [==============================] - 768s 16s/step - loss: 0.4984 - accuracy: 0.8952 - val_loss: 0.4931 - val_accuracy: 0.8371\n",
      "Epoch 3/50\n",
      "47/47 [==============================] - 720s 15s/step - loss: 0.1901 - accuracy: 0.9554 - val_loss: 0.2734 - val_accuracy: 0.9185\n",
      "Epoch 4/50\n",
      "47/47 [==============================] - 773s 16s/step - loss: 0.1027 - accuracy: 0.9750 - val_loss: 0.1198 - val_accuracy: 0.9691\n",
      "Epoch 5/50\n",
      "47/47 [==============================] - 694s 15s/step - loss: 0.0946 - accuracy: 0.9777 - val_loss: 0.1128 - val_accuracy: 0.9719\n",
      "Epoch 6/50\n",
      "47/47 [==============================] - 701s 15s/step - loss: 0.0645 - accuracy: 0.9851 - val_loss: 0.1565 - val_accuracy: 0.9663\n",
      "Epoch 7/50\n",
      "47/47 [==============================] - 733s 16s/step - loss: 0.0713 - accuracy: 0.9831 - val_loss: 0.1103 - val_accuracy: 0.9747\n",
      "Epoch 8/50\n",
      "47/47 [==============================] - 724s 15s/step - loss: 0.0729 - accuracy: 0.9797 - val_loss: 0.2454 - val_accuracy: 0.9354\n",
      "Epoch 9/50\n",
      "47/47 [==============================] - 723s 15s/step - loss: 0.0529 - accuracy: 0.9865 - val_loss: 0.1726 - val_accuracy: 0.9438\n",
      "Epoch 10/50\n",
      "47/47 [==============================] - 716s 15s/step - loss: 0.0468 - accuracy: 0.9865 - val_loss: 0.1407 - val_accuracy: 0.9607\n",
      "Epoch 11/50\n",
      "47/47 [==============================] - 730s 15s/step - loss: 0.0342 - accuracy: 0.9926 - val_loss: 0.1103 - val_accuracy: 0.9691\n",
      "Epoch 12/50\n",
      "47/47 [==============================] - 726s 15s/step - loss: 0.0735 - accuracy: 0.9831 - val_loss: 0.1987 - val_accuracy: 0.9326\n",
      "Epoch 13/50\n",
      "47/47 [==============================] - 695s 15s/step - loss: 0.0666 - accuracy: 0.9811 - val_loss: 0.2251 - val_accuracy: 0.9270\n",
      "Epoch 14/50\n",
      "47/47 [==============================] - 732s 16s/step - loss: 0.0620 - accuracy: 0.9851 - val_loss: 0.1958 - val_accuracy: 0.9410\n",
      "Epoch 15/50\n",
      "47/47 [==============================] - 657s 14s/step - loss: 0.0416 - accuracy: 0.9851 - val_loss: 0.1482 - val_accuracy: 0.9635\n",
      "Epoch 16/50\n",
      "47/47 [==============================] - 783s 17s/step - loss: 0.0608 - accuracy: 0.9838 - val_loss: 0.2170 - val_accuracy: 0.9213\n",
      "Epoch 17/50\n",
      "47/47 [==============================] - 835s 18s/step - loss: 0.0463 - accuracy: 0.9872 - val_loss: 0.2748 - val_accuracy: 0.9438\n"
     ]
    },
    {
     "data": {
      "text/plain": [
       "<keras.callbacks.History at 0x1473f7ff8b0>"
      ]
     },
     "execution_count": 13,
     "metadata": {},
     "output_type": "execute_result"
    }
   ],
   "source": [
    "# Entraînement du modèle\n",
    "model.fit(\n",
    "    train_generator,\n",
    "    epochs=50,\n",
    "    callbacks=[early_stopping],\n",
    "    validation_data=valid_generator  # Remplacez par votre générateur de validation\n",
    ")"
   ]
  },
  {
   "cell_type": "code",
   "execution_count": 20,
   "metadata": {},
   "outputs": [
    {
     "name": "stdout",
     "output_type": "stream",
     "text": [
      "12/12 [==============================] - 39s 3s/step - loss: 0.1132 - accuracy: 0.9747\n",
      "Test InceptionV3 accuracy: 97.47%\n"
     ]
    }
   ],
   "source": [
    "# Évaluation du modèle sur l'ensemble de test\n",
    "test_loss, test_accuracy = model.evaluate(valid_generator)  \n",
    "print(f\"Test InceptionV3 accuracy: {test_accuracy * 100:.2f}%\")"
   ]
  },
  {
   "cell_type": "code",
   "execution_count": null,
   "metadata": {},
   "outputs": [],
   "source": []
  }
 ],
 "metadata": {
  "accelerator": "TPU",
  "colab": {
   "provenance": []
  },
  "kernelspec": {
   "display_name": "Python 3 (ipykernel)",
   "language": "python",
   "name": "python3"
  },
  "language_info": {
   "codemirror_mode": {
    "name": "ipython",
    "version": 3
   },
   "file_extension": ".py",
   "mimetype": "text/x-python",
   "name": "python",
   "nbconvert_exporter": "python",
   "pygments_lexer": "ipython3",
   "version": "3.10.9"
  }
 },
 "nbformat": 4,
 "nbformat_minor": 1
}
