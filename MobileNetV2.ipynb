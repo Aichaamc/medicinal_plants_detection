{
 "cells": [
  {
   "cell_type": "code",
   "execution_count": 1,
   "id": "8636153c",
   "metadata": {},
   "outputs": [],
   "source": [
    "import os\n",
    "import tensorflow as tf\n",
    "from tensorflow.keras.applications import MobileNetV2, InceptionV3, ResNet50\n",
    "from tensorflow.keras.layers import Dense, GlobalAveragePooling2D\n",
    "from tensorflow.keras.models import Model\n",
    "from tensorflow.keras.optimizers import Adam\n",
    "from tensorflow.keras.preprocessing.image import ImageDataGenerator"
   ]
  },
  {
   "cell_type": "code",
   "execution_count": 2,
   "id": "6b5f6357",
   "metadata": {},
   "outputs": [],
   "source": [
    "data_dir = \"Segmented Medicinal Leaf Images\""
   ]
  },
  {
   "cell_type": "code",
   "execution_count": 3,
   "id": "5207ec3d",
   "metadata": {},
   "outputs": [],
   "source": [
    "# Paramètres du modèle\n",
    "img_height = 224\n",
    "img_width = 224\n",
    "batch_size = 32\n",
    "epochs = 20\n",
    "k_folds = 5\n",
    "num_classes = len(os.listdir(data_dir))\n",
    "input_shape = (img_height, img_width, 3)"
   ]
  },
  {
   "cell_type": "code",
   "execution_count": 4,
   "id": "02edb0c0",
   "metadata": {},
   "outputs": [],
   "source": [
    "datagen = ImageDataGenerator(\n",
    "    rescale=1.0/255.0,\n",
    "    rotation_range=20,\n",
    "    width_shift_range=0.2,\n",
    "    height_shift_range=0.2,\n",
    "    shear_range=0.2,\n",
    "    zoom_range=0.2,\n",
    "    horizontal_flip=True,\n",
    "    validation_split=0.2\n",
    ")"
   ]
  },
  {
   "cell_type": "code",
   "execution_count": 5,
   "id": "bc0aaeaa",
   "metadata": {},
   "outputs": [
    {
     "name": "stdout",
     "output_type": "stream",
     "text": [
      "Found 1479 images belonging to 30 classes.\n",
      "Found 356 images belonging to 30 classes.\n"
     ]
    }
   ],
   "source": [
    "\n",
    "train_generator = datagen.flow_from_directory(\n",
    "    data_dir,\n",
    "    target_size=(img_height, img_width),\n",
    "    batch_size=batch_size,\n",
    "    class_mode='categorical',  # Pour plusieurs classes\n",
    "    subset='training'  # Utilisez l'ensemble d'entraînement\n",
    ")\n",
    "\n",
    "test_generator = datagen.flow_from_directory(\n",
    "    data_dir,\n",
    "    target_size=(img_height, img_width),\n",
    "    batch_size=batch_size,\n",
    "    class_mode='categorical',\n",
    "    subset='validation'  # Utilisez l'ensemble de validation pour les tests\n",
    ")\n",
    "\n"
   ]
  },
  {
   "cell_type": "code",
   "execution_count": 6,
   "id": "72c2f90e",
   "metadata": {},
   "outputs": [],
   "source": [
    "# Charger les modèles pré-entraînés\n",
    "base_model1 = MobileNetV2(weights='imagenet', include_top=False, input_shape=input_shape)\n"
   ]
  },
  {
   "cell_type": "code",
   "execution_count": 7,
   "id": "667542df",
   "metadata": {},
   "outputs": [],
   "source": [
    "# Ajouter des couches personnalisées\n",
    "x1 = base_model1.output\n",
    "x1 = GlobalAveragePooling2D()(x1)\n",
    "x1 = Dense(1024, activation='relu')(x1)\n",
    "predictions1 = Dense(num_classes, activation='softmax')(x1)\n",
    "\n",
    "\n"
   ]
  },
  {
   "cell_type": "code",
   "execution_count": 8,
   "id": "f579766e",
   "metadata": {},
   "outputs": [],
   "source": [
    "\n",
    "# Créer les modèles complets\n",
    "model1 = Model(inputs=base_model1.input, outputs=predictions1)\n"
   ]
  },
  {
   "cell_type": "code",
   "execution_count": 9,
   "id": "a3242e3b",
   "metadata": {},
   "outputs": [],
   "source": [
    "# Utilisation de l'arrêt précoce\n",
    "early_stopping = tf.keras.callbacks.EarlyStopping(\n",
    "    monitor='val_loss',\n",
    "    patience=10,\n",
    "    restore_best_weights=True\n",
    ")"
   ]
  },
  {
   "cell_type": "code",
   "execution_count": 10,
   "id": "c03cd48b",
   "metadata": {
    "scrolled": false
   },
   "outputs": [
    {
     "name": "stdout",
     "output_type": "stream",
     "text": [
      "Epoch 1/20\n",
      "47/47 [==============================] - 381s 8s/step - loss: 2.0210 - accuracy: 0.5463 - val_loss: 2.6549 - val_accuracy: 0.2640\n",
      "Epoch 2/20\n",
      "47/47 [==============================] - 388s 8s/step - loss: 0.3431 - accuracy: 0.9459 - val_loss: 2.3714 - val_accuracy: 0.3539\n",
      "Epoch 3/20\n",
      "47/47 [==============================] - 353s 7s/step - loss: 0.1210 - accuracy: 0.9784 - val_loss: 2.1383 - val_accuracy: 0.3904\n",
      "Epoch 4/20\n",
      "47/47 [==============================] - 341s 7s/step - loss: 0.0763 - accuracy: 0.9872 - val_loss: 1.9200 - val_accuracy: 0.4522\n",
      "Epoch 5/20\n",
      "47/47 [==============================] - 338s 7s/step - loss: 0.0507 - accuracy: 0.9912 - val_loss: 1.7301 - val_accuracy: 0.4803\n",
      "Epoch 6/20\n",
      "47/47 [==============================] - 349s 7s/step - loss: 0.0261 - accuracy: 0.9946 - val_loss: 1.6572 - val_accuracy: 0.4775\n",
      "Epoch 7/20\n",
      "47/47 [==============================] - 342s 7s/step - loss: 0.0183 - accuracy: 0.9980 - val_loss: 1.6558 - val_accuracy: 0.5112\n",
      "Epoch 8/20\n",
      "47/47 [==============================] - 339s 7s/step - loss: 0.0174 - accuracy: 0.9966 - val_loss: 1.4336 - val_accuracy: 0.5702\n",
      "Epoch 9/20\n",
      "47/47 [==============================] - 338s 7s/step - loss: 0.0160 - accuracy: 0.9973 - val_loss: 1.3748 - val_accuracy: 0.6039\n",
      "Epoch 10/20\n",
      "47/47 [==============================] - 338s 7s/step - loss: 0.0199 - accuracy: 0.9946 - val_loss: 1.3398 - val_accuracy: 0.5899\n",
      "Epoch 11/20\n",
      "47/47 [==============================] - 339s 7s/step - loss: 0.0238 - accuracy: 0.9946 - val_loss: 1.2633 - val_accuracy: 0.6208\n",
      "Epoch 12/20\n",
      "47/47 [==============================] - 338s 7s/step - loss: 0.0358 - accuracy: 0.9905 - val_loss: 1.2069 - val_accuracy: 0.6489\n",
      "Epoch 13/20\n",
      "47/47 [==============================] - 337s 7s/step - loss: 0.0317 - accuracy: 0.9878 - val_loss: 1.1366 - val_accuracy: 0.6601\n",
      "Epoch 14/20\n",
      "47/47 [==============================] - 340s 7s/step - loss: 0.0217 - accuracy: 0.9946 - val_loss: 1.1278 - val_accuracy: 0.6517\n",
      "Epoch 15/20\n",
      "47/47 [==============================] - 339s 7s/step - loss: 0.0239 - accuracy: 0.9919 - val_loss: 1.1083 - val_accuracy: 0.6826\n",
      "Epoch 16/20\n",
      "47/47 [==============================] - 339s 7s/step - loss: 0.0124 - accuracy: 0.9980 - val_loss: 1.1590 - val_accuracy: 0.6629\n",
      "Epoch 17/20\n",
      "47/47 [==============================] - 346s 7s/step - loss: 0.0229 - accuracy: 0.9899 - val_loss: 1.1625 - val_accuracy: 0.6657\n",
      "Epoch 18/20\n",
      "47/47 [==============================] - 346s 7s/step - loss: 0.0179 - accuracy: 0.9959 - val_loss: 1.2195 - val_accuracy: 0.6376\n",
      "Epoch 19/20\n",
      "47/47 [==============================] - 336s 7s/step - loss: 0.0063 - accuracy: 0.9993 - val_loss: 1.1083 - val_accuracy: 0.6854\n",
      "Epoch 20/20\n",
      "47/47 [==============================] - 339s 7s/step - loss: 0.0110 - accuracy: 0.9966 - val_loss: 1.1337 - val_accuracy: 0.6713\n"
     ]
    }
   ],
   "source": [
    "# Compiler et entraîner les modèles individuels\n",
    "model1.compile(optimizer=Adam(learning_rate=0.0001), loss='categorical_crossentropy', metrics=['accuracy'])\n",
    "\n",
    "hist=model1.fit(train_generator,\n",
    "    epochs=epochs,\n",
    "    callbacks=[early_stopping],\n",
    "    validation_data=test_generator)\n"
   ]
  },
  {
   "cell_type": "code",
   "execution_count": 11,
   "id": "956ba4c9",
   "metadata": {},
   "outputs": [
    {
     "name": "stdout",
     "output_type": "stream",
     "text": [
      "12/12 [==============================] - 27s 2s/step - loss: 1.0940 - accuracy: 0.6882\n",
      "MobileNetV2 Accuracy: 0.6882022619247437\n"
     ]
    }
   ],
   "source": [
    "# Évaluer les modèles individuels sur l'ensemble de test\n",
    "test_loss1, test_accuracy1 = model1.evaluate(test_generator)\n",
    "\n",
    "\n",
    "print(\"MobileNetV2 Accuracy:\", test_accuracy1)"
   ]
  },
  {
   "cell_type": "code",
   "execution_count": 26,
   "id": "974553b9",
   "metadata": {},
   "outputs": [
    {
     "name": "stdout",
     "output_type": "stream",
     "text": [
      "Epoch 1/5\n",
      "47/47 [==============================] - 875s 16s/step - loss: 0.0210 - accuracy: 0.9932 - val_loss: 0.8711 - val_accuracy: 0.7865\n",
      "Epoch 2/5\n",
      "47/47 [==============================] - 713s 15s/step - loss: 0.0101 - accuracy: 0.9980 - val_loss: 1.0971 - val_accuracy: 0.7669\n",
      "Epoch 3/5\n",
      "47/47 [==============================] - 705s 15s/step - loss: 0.0099 - accuracy: 0.9980 - val_loss: 1.0622 - val_accuracy: 0.7865\n",
      "Epoch 4/5\n",
      "47/47 [==============================] - 680s 14s/step - loss: 0.0055 - accuracy: 0.9986 - val_loss: 0.8468 - val_accuracy: 0.8455\n",
      "Epoch 5/5\n",
      "47/47 [==============================] - 937s 20s/step - loss: 0.0092 - accuracy: 0.9973 - val_loss: 0.7963 - val_accuracy: 0.8315\n"
     ]
    },
    {
     "data": {
      "text/plain": [
       "<keras.callbacks.History at 0x20a9ba13af0>"
      ]
     },
     "execution_count": 26,
     "metadata": {},
     "output_type": "execute_result"
    }
   ],
   "source": [
    "\n",
    "# Compiler et entraîner les modèles individuels #fine-tunning\n",
    "model1.compile(optimizer=Adam(learning_rate=0.0001), loss='categorical_crossentropy', metrics=['accuracy'])\n",
    "\n",
    "model1.fit(train_generator, epochs=5, validation_data=test_generator)"
   ]
  },
  {
   "cell_type": "code",
   "execution_count": 27,
   "id": "9ddc5006",
   "metadata": {},
   "outputs": [
    {
     "name": "stdout",
     "output_type": "stream",
     "text": [
      "12/12 [==============================] - 72s 6s/step - loss: 0.9146 - accuracy: 0.8315\n",
      "MobileNetV2 Accuracy: 0.8314606547355652\n"
     ]
    }
   ],
   "source": [
    "# Évaluer les modèles individuels sur l'ensemble de test\n",
    "test_loss1, test_accuracy1 = model1.evaluate(test_generator)\n",
    "\n",
    "\n",
    "print(\"MobileNetV2 Accuracy:\", test_accuracy1)"
   ]
  },
  {
   "cell_type": "code",
   "execution_count": 28,
   "id": "9efca8fb",
   "metadata": {},
   "outputs": [
    {
     "name": "stdout",
     "output_type": "stream",
     "text": [
      "Epoch 1/5\n",
      "47/47 [==============================] - 1139s 21s/step - loss: 0.0265 - accuracy: 0.9932 - val_loss: 1.3653 - val_accuracy: 0.7781\n",
      "Epoch 2/5\n",
      "47/47 [==============================] - 798s 17s/step - loss: 0.0157 - accuracy: 0.9959 - val_loss: 0.7447 - val_accuracy: 0.8736\n",
      "Epoch 3/5\n",
      "47/47 [==============================] - 740s 16s/step - loss: 0.0130 - accuracy: 0.9953 - val_loss: 0.9438 - val_accuracy: 0.8567\n",
      "Epoch 4/5\n",
      "47/47 [==============================] - 708s 15s/step - loss: 0.0175 - accuracy: 0.9912 - val_loss: 0.3556 - val_accuracy: 0.9073\n",
      "Epoch 5/5\n",
      "47/47 [==============================] - 697s 15s/step - loss: 0.0148 - accuracy: 0.9959 - val_loss: 0.7431 - val_accuracy: 0.8455\n"
     ]
    },
    {
     "data": {
      "text/plain": [
       "<keras.callbacks.History at 0x20aa6b15780>"
      ]
     },
     "execution_count": 28,
     "metadata": {},
     "output_type": "execute_result"
    }
   ],
   "source": [
    "# Compiler et entraîner les modèles individuels #fine-tunning\n",
    "model1.compile(optimizer=Adam(learning_rate=0.0001), loss='categorical_crossentropy', metrics=['accuracy'])\n",
    "\n",
    "model1.fit(train_generator, epochs=5, validation_data=test_generator)"
   ]
  },
  {
   "cell_type": "code",
   "execution_count": 29,
   "id": "3d22ff73",
   "metadata": {},
   "outputs": [
    {
     "name": "stdout",
     "output_type": "stream",
     "text": [
      "12/12 [==============================] - 73s 6s/step - loss: 0.7112 - accuracy: 0.8736\n",
      "MobileNetV2 Accuracy: 0.8735954761505127\n"
     ]
    }
   ],
   "source": [
    "# Évaluer les modèles individuels sur l'ensemble de test\n",
    "test_loss1, test_accuracy1 = model1.evaluate(test_generator)\n",
    "\n",
    "\n",
    "print(\"MobileNetV2 Accuracy:\", test_accuracy1)"
   ]
  },
  {
   "cell_type": "code",
   "execution_count": null,
   "id": "1b32154d",
   "metadata": {},
   "outputs": [],
   "source": []
  }
 ],
 "metadata": {
  "kernelspec": {
   "display_name": "Python 3 (ipykernel)",
   "language": "python",
   "name": "python3"
  },
  "language_info": {
   "codemirror_mode": {
    "name": "ipython",
    "version": 3
   },
   "file_extension": ".py",
   "mimetype": "text/x-python",
   "name": "python",
   "nbconvert_exporter": "python",
   "pygments_lexer": "ipython3",
   "version": "3.10.9"
  },
  "widgets": {
   "application/vnd.jupyter.widget-state+json": {
    "state": {},
    "version_major": 2,
    "version_minor": 0
   }
  }
 },
 "nbformat": 4,
 "nbformat_minor": 5
}
