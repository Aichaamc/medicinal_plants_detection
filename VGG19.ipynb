{
 "cells": [
  {
   "cell_type": "code",
   "execution_count": 1,
   "id": "71d6a2c7",
   "metadata": {},
   "outputs": [],
   "source": [
    "import tensorflow as tf\n",
    "from tensorflow.keras.preprocessing.image import ImageDataGenerator\n",
    "from tensorflow.keras.applications import  VGG19\n",
    "from tensorflow.keras.layers import Dense, GlobalAveragePooling2D\n",
    "from tensorflow.keras.models import Model\n",
    "from tensorflow.keras.optimizers import Adam\n",
    "from tensorflow.keras.callbacks import ModelCheckpoint, EarlyStopping\n",
    "from tensorflow.keras.layers.experimental import preprocessing"
   ]
  },
  {
   "cell_type": "code",
   "execution_count": 2,
   "id": "92bd7273",
   "metadata": {},
   "outputs": [],
   "source": [
    "# Paramètres\n",
    "input_shape = (224, 224, 3)\n",
    "num_classes = 30  # Remplacez par le nombre de classes de votre tâche\n",
    "batch_size = 32\n",
    "epochs = 50"
   ]
  },
  {
   "cell_type": "code",
   "execution_count": 3,
   "id": "cde8c2be",
   "metadata": {},
   "outputs": [],
   "source": [
    "data_dir = \"Segmented Medicinal Leaf Images\""
   ]
  },
  {
   "cell_type": "code",
   "execution_count": 4,
   "id": "6b174a6f",
   "metadata": {},
   "outputs": [],
   "source": [
    "#augmentation\n",
    "datagen = ImageDataGenerator(\n",
    "    rescale=1.0/255.0,\n",
    "    rotation_range=20,\n",
    "    width_shift_range=0.2,\n",
    "    height_shift_range=0.2,\n",
    "    shear_range=0.2,\n",
    "    zoom_range=0.2,\n",
    "    horizontal_flip=True,\n",
    "    validation_split=0.2\n",
    ")"
   ]
  },
  {
   "cell_type": "code",
   "execution_count": 5,
   "id": "a4afb570",
   "metadata": {},
   "outputs": [
    {
     "name": "stdout",
     "output_type": "stream",
     "text": [
      "Found 1479 images belonging to 30 classes.\n"
     ]
    }
   ],
   "source": [
    "# Chargez les données d'entraînement et de validation en utilisant le générateur\n",
    "train_generator = datagen.flow_from_directory(\n",
    "    data_dir,\n",
    "    target_size = input_shape[:2],\n",
    "    batch_size=32,\n",
    "    class_mode='categorical',\n",
    "    subset='training'  # Utilisez la sous-partie d'entraînement\n",
    ")\n"
   ]
  },
  {
   "cell_type": "code",
   "execution_count": 6,
   "id": "fe39a6ca",
   "metadata": {},
   "outputs": [
    {
     "name": "stdout",
     "output_type": "stream",
     "text": [
      "Found 356 images belonging to 30 classes.\n"
     ]
    }
   ],
   "source": [
    "test_generator = datagen.flow_from_directory(\n",
    "    data_dir,\n",
    "    target_size=input_shape[:2],\n",
    "    batch_size=32,\n",
    "    class_mode='categorical',\n",
    "    subset='validation'  # Utilisez la sous-partie de validation\n",
    ")"
   ]
  },
  {
   "cell_type": "code",
   "execution_count": 7,
   "id": "aa3641d6",
   "metadata": {},
   "outputs": [
    {
     "name": "stdout",
     "output_type": "stream",
     "text": [
      "Downloading data from https://storage.googleapis.com/tensorflow/keras-applications/vgg19/vgg19_weights_tf_dim_ordering_tf_kernels_notop.h5\n",
      "80134624/80134624 [==============================] - 80s 1us/step\n"
     ]
    }
   ],
   "source": [
    "# Chargement du modèle pré-entraîné VGG16 avec les poids ImageNet\n",
    "base_model = VGG19(weights='imagenet', include_top=False, input_shape=input_shape)\n"
   ]
  },
  {
   "cell_type": "code",
   "execution_count": 8,
   "id": "f537ab52",
   "metadata": {},
   "outputs": [],
   "source": [
    "# Geler les couches du modèle de base (sauf les dernières couches de classification)\n",
    "for layer in base_model.layers[:-4]:\n",
    "    layer.trainable = False"
   ]
  },
  {
   "cell_type": "code",
   "execution_count": 14,
   "id": "7099cdba",
   "metadata": {},
   "outputs": [],
   "source": [
    "# Ajouter des couches personnalisées\n",
    "x1 = base_model.output\n",
    "x1 = GlobalAveragePooling2D()(x1)\n",
    "x1 = Dense(1024, activation='relu')(x1)\n",
    "predictions = Dense(num_classes, activation='softmax')(x1)"
   ]
  },
  {
   "cell_type": "code",
   "execution_count": 15,
   "id": "0121bcee",
   "metadata": {},
   "outputs": [],
   "source": [
    "# Création du modèle final\n",
    "model = Model(inputs=base_model.input, outputs=predictions)"
   ]
  },
  {
   "cell_type": "code",
   "execution_count": 16,
   "id": "c4264252",
   "metadata": {},
   "outputs": [],
   "source": [
    "# Compilation du modèle\n",
    "model.compile(optimizer=Adam(learning_rate=0.0001), loss='categorical_crossentropy', metrics=['accuracy'])"
   ]
  },
  {
   "cell_type": "code",
   "execution_count": 17,
   "id": "798aa70f",
   "metadata": {},
   "outputs": [],
   "source": [
    "# Utilisation de l'arrêt précoce\n",
    "early_stopping = tf.keras.callbacks.EarlyStopping(\n",
    "    monitor='val_loss',\n",
    "    patience=10,\n",
    "    restore_best_weights=True\n",
    ")\n"
   ]
  },
  {
   "cell_type": "code",
   "execution_count": 18,
   "id": "d5938055",
   "metadata": {},
   "outputs": [
    {
     "name": "stdout",
     "output_type": "stream",
     "text": [
      "Epoch 1/50\n",
      "47/47 [==============================] - 937s 20s/step - loss: 2.5395 - accuracy: 0.2732 - val_loss: 1.5938 - val_accuracy: 0.4888\n",
      "Epoch 2/50\n",
      "47/47 [==============================] - 925s 20s/step - loss: 0.9866 - accuracy: 0.6930 - val_loss: 0.9441 - val_accuracy: 0.6713\n",
      "Epoch 3/50\n",
      "47/47 [==============================] - 940s 20s/step - loss: 0.5649 - accuracy: 0.8087 - val_loss: 0.6545 - val_accuracy: 0.7809\n",
      "Epoch 4/50\n",
      "47/47 [==============================] - 940s 20s/step - loss: 0.5087 - accuracy: 0.8425 - val_loss: 0.5736 - val_accuracy: 0.8062\n",
      "Epoch 5/50\n",
      "47/47 [==============================] - 932s 20s/step - loss: 0.3595 - accuracy: 0.8844 - val_loss: 0.4862 - val_accuracy: 0.8539\n",
      "Epoch 6/50\n",
      "47/47 [==============================] - 937s 20s/step - loss: 0.2830 - accuracy: 0.9060 - val_loss: 0.4460 - val_accuracy: 0.8511\n",
      "Epoch 7/50\n",
      "47/47 [==============================] - 928s 20s/step - loss: 0.2711 - accuracy: 0.9128 - val_loss: 0.4295 - val_accuracy: 0.8596\n",
      "Epoch 8/50\n",
      "47/47 [==============================] - 926s 20s/step - loss: 0.2271 - accuracy: 0.9249 - val_loss: 0.3619 - val_accuracy: 0.8820\n",
      "Epoch 9/50\n",
      "47/47 [==============================] - 931s 20s/step - loss: 0.1578 - accuracy: 0.9520 - val_loss: 0.3245 - val_accuracy: 0.9073\n",
      "Epoch 10/50\n",
      "47/47 [==============================] - 934s 20s/step - loss: 0.1823 - accuracy: 0.9425 - val_loss: 0.3280 - val_accuracy: 0.8904\n",
      "Epoch 11/50\n",
      "47/47 [==============================] - 926s 20s/step - loss: 0.1893 - accuracy: 0.9371 - val_loss: 0.4378 - val_accuracy: 0.8904\n",
      "Epoch 12/50\n",
      "47/47 [==============================] - 926s 20s/step - loss: 0.1610 - accuracy: 0.9486 - val_loss: 0.2817 - val_accuracy: 0.9045\n",
      "Epoch 13/50\n",
      "47/47 [==============================] - 931s 20s/step - loss: 0.1317 - accuracy: 0.9594 - val_loss: 0.3078 - val_accuracy: 0.9017\n",
      "Epoch 14/50\n",
      "47/47 [==============================] - 951s 20s/step - loss: 0.1036 - accuracy: 0.9655 - val_loss: 0.3551 - val_accuracy: 0.8933\n",
      "Epoch 15/50\n",
      "47/47 [==============================] - 996s 21s/step - loss: 0.0844 - accuracy: 0.9682 - val_loss: 0.2874 - val_accuracy: 0.9101\n",
      "Epoch 16/50\n",
      "47/47 [==============================] - 1115s 24s/step - loss: 0.0937 - accuracy: 0.9696 - val_loss: 0.2751 - val_accuracy: 0.9157\n",
      "Epoch 17/50\n",
      "47/47 [==============================] - 1057s 22s/step - loss: 0.1170 - accuracy: 0.9594 - val_loss: 0.2804 - val_accuracy: 0.8989\n",
      "Epoch 18/50\n",
      "47/47 [==============================] - 947s 20s/step - loss: 0.1026 - accuracy: 0.9703 - val_loss: 0.3643 - val_accuracy: 0.8961\n",
      "Epoch 19/50\n",
      "47/47 [==============================] - 946s 20s/step - loss: 0.0568 - accuracy: 0.9844 - val_loss: 0.4273 - val_accuracy: 0.8848\n",
      "Epoch 20/50\n",
      "47/47 [==============================] - 929s 20s/step - loss: 0.1194 - accuracy: 0.9581 - val_loss: 0.2525 - val_accuracy: 0.8961\n",
      "Epoch 21/50\n",
      "47/47 [==============================] - 931s 20s/step - loss: 0.0756 - accuracy: 0.9784 - val_loss: 0.4655 - val_accuracy: 0.8961\n",
      "Epoch 22/50\n",
      "47/47 [==============================] - 992s 21s/step - loss: 0.0481 - accuracy: 0.9872 - val_loss: 0.2104 - val_accuracy: 0.9354\n",
      "Epoch 23/50\n",
      "47/47 [==============================] - 1279s 27s/step - loss: 0.0677 - accuracy: 0.9709 - val_loss: 0.2584 - val_accuracy: 0.9242\n",
      "Epoch 24/50\n",
      "47/47 [==============================] - 1362s 29s/step - loss: 0.1943 - accuracy: 0.9446 - val_loss: 0.3138 - val_accuracy: 0.9017\n",
      "Epoch 25/50\n",
      "47/47 [==============================] - 1327s 28s/step - loss: 0.0863 - accuracy: 0.9743 - val_loss: 0.2472 - val_accuracy: 0.9213\n",
      "Epoch 26/50\n",
      "47/47 [==============================] - 999s 21s/step - loss: 0.0659 - accuracy: 0.9770 - val_loss: 0.3163 - val_accuracy: 0.9185\n",
      "Epoch 27/50\n",
      "47/47 [==============================] - 987s 21s/step - loss: 0.0649 - accuracy: 0.9763 - val_loss: 0.2476 - val_accuracy: 0.9129\n",
      "Epoch 28/50\n",
      "47/47 [==============================] - 1105s 23s/step - loss: 0.0383 - accuracy: 0.9878 - val_loss: 0.2179 - val_accuracy: 0.9270\n",
      "Epoch 29/50\n",
      "47/47 [==============================] - 1038s 22s/step - loss: 0.0464 - accuracy: 0.9811 - val_loss: 0.2477 - val_accuracy: 0.9213\n",
      "Epoch 30/50\n",
      "47/47 [==============================] - 970s 21s/step - loss: 0.0510 - accuracy: 0.9865 - val_loss: 0.1917 - val_accuracy: 0.9270\n",
      "Epoch 31/50\n",
      "47/47 [==============================] - 1027s 22s/step - loss: 0.0449 - accuracy: 0.9844 - val_loss: 0.2866 - val_accuracy: 0.9101\n",
      "Epoch 32/50\n",
      "47/47 [==============================] - 1007s 22s/step - loss: 0.0838 - accuracy: 0.9716 - val_loss: 0.2642 - val_accuracy: 0.9213\n",
      "Epoch 33/50\n",
      "47/47 [==============================] - 956s 20s/step - loss: 0.0576 - accuracy: 0.9844 - val_loss: 0.3085 - val_accuracy: 0.9157\n",
      "Epoch 34/50\n",
      "47/47 [==============================] - 952s 20s/step - loss: 0.0562 - accuracy: 0.9824 - val_loss: 0.2334 - val_accuracy: 0.9298\n",
      "Epoch 35/50\n",
      "47/47 [==============================] - 941s 20s/step - loss: 0.0237 - accuracy: 0.9946 - val_loss: 0.2614 - val_accuracy: 0.9298\n",
      "Epoch 36/50\n",
      "47/47 [==============================] - 929s 20s/step - loss: 0.0234 - accuracy: 0.9926 - val_loss: 0.2216 - val_accuracy: 0.9354\n",
      "Epoch 37/50\n",
      "47/47 [==============================] - 927s 20s/step - loss: 0.0434 - accuracy: 0.9838 - val_loss: 0.2568 - val_accuracy: 0.9270\n",
      "Epoch 38/50\n",
      "47/47 [==============================] - 938s 20s/step - loss: 0.0272 - accuracy: 0.9912 - val_loss: 0.3313 - val_accuracy: 0.9129\n",
      "Epoch 39/50\n",
      "47/47 [==============================] - 927s 20s/step - loss: 0.0338 - accuracy: 0.9905 - val_loss: 0.2008 - val_accuracy: 0.9410\n",
      "Epoch 40/50\n",
      "47/47 [==============================] - 932s 20s/step - loss: 0.0259 - accuracy: 0.9926 - val_loss: 0.3202 - val_accuracy: 0.9213\n"
     ]
    },
    {
     "data": {
      "text/plain": [
       "<keras.callbacks.History at 0x1d41c4ebb80>"
      ]
     },
     "execution_count": 18,
     "metadata": {},
     "output_type": "execute_result"
    }
   ],
   "source": [
    "# Entraînement du modèle\n",
    "model.fit(\n",
    "    train_generator,\n",
    "    epochs=epochs,\n",
    "    callbacks=[early_stopping],\n",
    "    validation_data=test_generator  # Remplacez par votre générateur de validation\n",
    ")"
   ]
  },
  {
   "cell_type": "code",
   "execution_count": 20,
   "id": "1dfbfd15",
   "metadata": {},
   "outputs": [
    {
     "name": "stdout",
     "output_type": "stream",
     "text": [
      "12/12 [==============================] - 162s 13s/step - loss: 0.1819 - accuracy: 0.9354\n",
      "MobileNetV2 Accuracy: 0.9353932738304138\n"
     ]
    }
   ],
   "source": [
    "# Évaluer les modèles individuels sur l'ensemble de test\n",
    "test_loss1, test_accuracy1 = model.evaluate(test_generator)\n",
    "\n",
    "\n",
    "print(\" Accuracy:\", test_accuracy1)"
   ]
  },
  {
   "cell_type": "code",
   "execution_count": 21,
   "id": "33a01d03",
   "metadata": {},
   "outputs": [
    {
     "name": "stdout",
     "output_type": "stream",
     "text": [
      "Epoch 1/10\n",
      "47/47 [==============================] - 967s 21s/step - loss: 0.0508 - accuracy: 0.9804 - val_loss: 0.3949 - val_accuracy: 0.8904\n",
      "Epoch 2/10\n",
      "47/47 [==============================] - 937s 20s/step - loss: 0.0546 - accuracy: 0.9817 - val_loss: 0.2166 - val_accuracy: 0.9270\n",
      "Epoch 3/10\n",
      "47/47 [==============================] - 929s 20s/step - loss: 0.0752 - accuracy: 0.9750 - val_loss: 0.2023 - val_accuracy: 0.9298\n",
      "Epoch 4/10\n",
      "47/47 [==============================] - 943s 20s/step - loss: 0.0735 - accuracy: 0.9784 - val_loss: 0.2038 - val_accuracy: 0.9326\n",
      "Epoch 5/10\n",
      "47/47 [==============================] - 935s 20s/step - loss: 0.0498 - accuracy: 0.9844 - val_loss: 0.2518 - val_accuracy: 0.9213\n",
      "Epoch 6/10\n",
      "47/47 [==============================] - 928s 20s/step - loss: 0.0466 - accuracy: 0.9831 - val_loss: 0.2642 - val_accuracy: 0.9242\n",
      "Epoch 7/10\n",
      "47/47 [==============================] - 933s 20s/step - loss: 0.0597 - accuracy: 0.9790 - val_loss: 0.6808 - val_accuracy: 0.8427\n",
      "Epoch 8/10\n",
      "47/47 [==============================] - 930s 20s/step - loss: 0.0383 - accuracy: 0.9885 - val_loss: 0.2192 - val_accuracy: 0.9382\n",
      "Epoch 9/10\n",
      "47/47 [==============================] - 937s 20s/step - loss: 0.0227 - accuracy: 0.9912 - val_loss: 0.4025 - val_accuracy: 0.8933\n",
      "Epoch 10/10\n",
      "47/47 [==============================] - 931s 20s/step - loss: 0.0488 - accuracy: 0.9838 - val_loss: 0.3363 - val_accuracy: 0.9101\n"
     ]
    },
    {
     "data": {
      "text/plain": [
       "<keras.callbacks.History at 0x1d420952410>"
      ]
     },
     "execution_count": 21,
     "metadata": {},
     "output_type": "execute_result"
    }
   ],
   "source": [
    "# Entraînement du modèle\n",
    "model.fit(\n",
    "    train_generator,\n",
    "    epochs=10,\n",
    "    callbacks=[early_stopping],\n",
    "    validation_data=test_generator  # Remplacez par votre générateur de validation\n",
    ")"
   ]
  },
  {
   "cell_type": "code",
   "execution_count": 22,
   "id": "04106be0",
   "metadata": {},
   "outputs": [
    {
     "name": "stdout",
     "output_type": "stream",
     "text": [
      "12/12 [==============================] - 159s 13s/step - loss: 0.2868 - accuracy: 0.9270\n",
      "MobileNetV2 Accuracy: 0.9269663095474243\n"
     ]
    }
   ],
   "source": [
    "# Évaluer les modèles individuels sur l'ensemble de test\n",
    "test_loss1, test_accuracy1 = model.evaluate(test_generator)\n",
    "\n",
    "\n",
    "print(\"MobileNetV2 Accuracy:\", test_accuracy1)"
   ]
  },
  {
   "cell_type": "code",
   "execution_count": null,
   "id": "ab134472",
   "metadata": {},
   "outputs": [],
   "source": []
  }
 ],
 "metadata": {
  "kernelspec": {
   "display_name": "Python 3 (ipykernel)",
   "language": "python",
   "name": "python3"
  },
  "language_info": {
   "codemirror_mode": {
    "name": "ipython",
    "version": 3
   },
   "file_extension": ".py",
   "mimetype": "text/x-python",
   "name": "python",
   "nbconvert_exporter": "python",
   "pygments_lexer": "ipython3",
   "version": "3.10.9"
  }
 },
 "nbformat": 4,
 "nbformat_minor": 5
}
